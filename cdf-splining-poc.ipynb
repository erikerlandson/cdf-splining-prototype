{
 "cells": [
  {
   "cell_type": "markdown",
   "metadata": {},
   "source": [
    "# A Prototype For Fitting Monotonic Cubic Splines to a Tdigest Sketch"
   ]
  },
  {
   "cell_type": "markdown",
   "metadata": {},
   "source": [
    "### Register Custom Maven Resolvers"
   ]
  },
  {
   "cell_type": "code",
   "execution_count": null,
   "metadata": {},
   "outputs": [],
   "source": [
    "import Resolvers._\n",
    "interp.resolvers() = interp.resolvers() :+ Resolver.Http(\n",
    "  \"manyangled\",\n",
    "  \"https://dl.bintray.com/manyangled/maven/\",\n",
    "  MavenPattern,\n",
    "  true\n",
    ")\n",
    "interp.resolvers() = interp.resolvers() :+ Resolver.Http(\n",
    "    \"cibotech\",\n",
    "    \"https://dl.bintray.com/cibotech/public/\",\n",
    "    MavenPattern,\n",
    "    true\n",
    ")"
   ]
  },
  {
   "cell_type": "markdown",
   "metadata": {},
   "source": [
    "### Package imports"
   ]
  },
  {
   "cell_type": "code",
   "execution_count": null,
   "metadata": {},
   "outputs": [],
   "source": [
    "// Apache Commons Math\n",
    "import $ivy.`org.apache.commons:commons-math3:3.6.1`\n",
    "\n",
    "// T-digest sketching\n",
    "import $ivy.`org.isarnproject::isarn-sketches:0.1.2`\n",
    "\n",
    "// Convex Optimization\n",
    "import $ivy.`com.manyangled:gibbous:0.1.1`\n",
    "\n",
    "// Monotonic splining\n",
    "import $ivy.`com.manyangled:snowball:0.1.1`\n",
    "\n",
    "// EvilPlot plotting routines\n",
    "import $ivy.`com.cibo::evilplot:0.4.1`\n",
    "import $ivy.`com.cibo::evilplot-repl:0.4.1`"
   ]
  },
  {
   "cell_type": "markdown",
   "metadata": {},
   "source": [
    "### Imports for EvilPlot plotting support"
   ]
  },
  {
   "cell_type": "code",
   "execution_count": null,
   "metadata": {},
   "outputs": [],
   "source": [
    "import com.cibo.evilplot._\n",
    "import com.cibo.evilplot.plot._\n",
    "import com.cibo.evilplot.plot.aesthetics.DefaultTheme._\n",
    "import com.cibo.evilplot.numeric.Point\n",
    "import com.cibo.evilplot.colors.HTMLNamedColors\n",
    "import com.cibo.evilplot.numeric.Bounds\n",
    "import com.cibo.evilplot.plot.renderers.BarRenderer"
   ]
  },
  {
   "cell_type": "markdown",
   "metadata": {},
   "source": [
    "#### Import some distributions to generate some sample data"
   ]
  },
  {
   "cell_type": "code",
   "execution_count": null,
   "metadata": {
    "scrolled": true
   },
   "outputs": [],
   "source": [
    "import org.apache.commons.math3.distribution.GammaDistribution\n",
    "import org.apache.commons.math3.distribution.NormalDistribution"
   ]
  },
  {
   "cell_type": "markdown",
   "metadata": {},
   "source": [
    "#### Import data sketching and spline interpolation"
   ]
  },
  {
   "cell_type": "code",
   "execution_count": null,
   "metadata": {},
   "outputs": [],
   "source": [
    "import org.isarnproject.sketches.TDigest\n",
    "import com.manyangled.snowball.analysis.interpolation.MonotonicSplineInterpolator"
   ]
  },
  {
   "cell_type": "markdown",
   "metadata": {},
   "source": [
    "#### declare some sampling distributions"
   ]
  },
  {
   "cell_type": "code",
   "execution_count": null,
   "metadata": {},
   "outputs": [],
   "source": [
    "val gamma = new GammaDistribution(1.0, 1.0)\n",
    "val normal = new NormalDistribution()"
   ]
  },
  {
   "cell_type": "markdown",
   "metadata": {},
   "source": [
    "#### Synthesize some data and sketch it"
   ]
  },
  {
   "cell_type": "code",
   "execution_count": null,
   "metadata": {},
   "outputs": [],
   "source": [
    "val rawdata = Array.fill(10000) { normal.sample()}\n",
    "val sketch = TDigest.sketch(rawdata)"
   ]
  },
  {
   "cell_type": "markdown",
   "metadata": {},
   "source": [
    "#### Collect some (x,y) points from the sketched CDF\n",
    "These are used as input to the spline fitting routines"
   ]
  },
  {
   "cell_type": "code",
   "execution_count": null,
   "metadata": {},
   "outputs": [],
   "source": [
    "val ydata = (0.0 until 1.0 by 0.01).toArray :+ 1.0\n",
    "val xdata = ydata.map { y => sketch.cdfInverse(y) }\n",
    "val (xmin, xmax) = (sketch.cdfInverse(0), sketch.cdfInverse(1))"
   ]
  },
  {
   "cell_type": "markdown",
   "metadata": {},
   "source": [
    "### Set up an interpolator and fit the data from the CDF sketch\n",
    "Note that the PDF spline is just the gradient of the CDF spline"
   ]
  },
  {
   "cell_type": "code",
   "execution_count": null,
   "metadata": {},
   "outputs": [],
   "source": [
    "val interpolator = new MonotonicSplineInterpolator()\n",
    "interpolator.addEqualityConstraint(xmin, 0.0 + 1e-9)\n",
    "interpolator.addEqualityConstraint(xmax, 1.0 - 1e-9)\n",
    "interpolator.setBounds(xmin, xmax)\n",
    "interpolator.setM(20)\n",
    "\n",
    "val cdfspline = interpolator.interpolate(xdata, ydata)\n",
    "val pdfspline = cdfspline.polynomialSplineDerivative()"
   ]
  },
  {
   "cell_type": "markdown",
   "metadata": {},
   "source": [
    "### These wrap the raw splines and define the domain to (-inf, +inf)"
   ]
  },
  {
   "cell_type": "code",
   "execution_count": null,
   "metadata": {},
   "outputs": [],
   "source": [
    "val cdffit = (x: Double) => x match {\n",
    "    case x if (x <= xmin) => 0.0\n",
    "    case x if (x >= xmax) => 1.0\n",
    "    case x => cdfspline.value(x)\n",
    "}\n",
    "val pdffit = (x: Double) => x match {\n",
    "    case x if (x <= xmin) => 0.0\n",
    "    case x if (x >= xmax) => 0.0\n",
    "    case x => pdfspline.value(x)\n",
    "}"
   ]
  },
  {
   "cell_type": "markdown",
   "metadata": {},
   "source": [
    "### Declare some custom binning functions for EvilPlot\n",
    "These should probably become a PR"
   ]
  },
  {
   "cell_type": "code",
   "execution_count": null,
   "metadata": {},
   "outputs": [],
   "source": [
    "object customBinners { \n",
    "    def cumulative(values: Seq[Double], xbounds: Bounds, binCount: Int): Seq[Point] = \n",
    "        doBinning(values, xbounds, binCount, false, true)\n",
    "    def cumulativeNormalized(values: Seq[Double], xbounds: Bounds, binCount: Int): Seq[Point] = \n",
    "        doBinning(values, xbounds, binCount, true, true)\n",
    "    def density(values: Seq[Double], xbounds: Bounds, binCount: Int): Seq[Point] = {\n",
    "        val binWidth = xbounds.range / binCount\n",
    "        doBinning(values, xbounds, binCount, true, false).map { case Point(x,y) => Point(x, y/binWidth) }\n",
    "    }\n",
    "\n",
    "    private def doBinning(values: Seq[Double], xbounds: Bounds, binCount: Int,\n",
    "                              normalize: Boolean, cumulative: Boolean): Seq[Point] = {\n",
    "        val binWidth = xbounds.range / binCount\n",
    "        val grouped = values.groupBy { value => \n",
    "            math.min(((value - xbounds.min) / binWidth).toInt, binCount - 1)\n",
    "        }\n",
    "        val pts = (0 until binCount).flatMap { i =>\n",
    "            grouped.get(i).map { vs =>\n",
    "                val y = (if (normalize) vs.size.toDouble / values.size else vs.size)\n",
    "                val x = i * binWidth + xbounds.min\n",
    "                Point(x, y)\n",
    "            }\n",
    "        }\n",
    "        if (!cumulative) pts else {\n",
    "            pts.scanLeft(Point(0,0)) { case (Point(_, t), Point(x,y)) => Point(x, y + t) }.drop(1)\n",
    "        }\n",
    "    }\n",
    "}"
   ]
  },
  {
   "cell_type": "markdown",
   "metadata": {},
   "source": [
    "### Compare a cumulative histogram, the \"raw\" sketch CDF and a cubic spline\n",
    "* Green bars are cumulative histogram of data\n",
    "* Red line is the CDF taken directly from the t-digest sketch\n",
    "* Blue line is the spline that was fit to the raw CDF data"
   ]
  },
  {
   "cell_type": "code",
   "execution_count": null,
   "metadata": {},
   "outputs": [],
   "source": [
    "val histplot = Histogram(\n",
    "    rawdata,\n",
    "    barRenderer = Some(BarRenderer.default(Some(HTMLNamedColors.green.copy(opacity = 0.25)))),\n",
    "    binningFunction = customBinners.cumulativeNormalized)\n",
    "val cdfplot = FunctionPlot.series((x:Double) => sketch.cdf(x), \"cdf(x)\", HTMLNamedColors.red, xbounds = Some(Bounds(xmin, xmax)))\n",
    "val splineplot = FunctionPlot.series((x:Double) => cdffit(x), \"spline(x)\", HTMLNamedColors.dodgerBlue, xbounds = Some(Bounds(xmin, xmax)))\n",
    "val plt = Overlay(histplot, cdfplot, splineplot).overlayLegend(x=0.6).render()\n",
    "displayPlot(plt)"
   ]
  },
  {
   "cell_type": "markdown",
   "metadata": {},
   "source": [
    "### Compare a \"density\" histogram, the \"raw\" sketch PDF and a cubic spline of PDF\n",
    "* Green bars are raw histogram of data\n",
    "* Red line is the PDF estimated directly from the t-digest sketch\n",
    "* Blue line is the gradient of the CDF spline above"
   ]
  },
  {
   "cell_type": "code",
   "execution_count": null,
   "metadata": {},
   "outputs": [],
   "source": [
    "val histplot = Histogram(\n",
    "    rawdata,\n",
    "    barRenderer = Some(BarRenderer.default(Some(HTMLNamedColors.green.copy(opacity = 0.25)))),\n",
    "    binningFunction = customBinners.density)\n",
    "val cdfplot = FunctionPlot.series((x:Double) => (sketch.cdf(x+0.01) - sketch.cdf(x))/0.01, \"cdf-gradient-estimate\", HTMLNamedColors.red, xbounds = Some(Bounds(xmin, xmax)))\n",
    "val splineplot = FunctionPlot.series((x:Double) => pdffit(x), \"spline-cdf-gradient\", HTMLNamedColors.dodgerBlue, xbounds = Some(Bounds(xmin, xmax)))\n",
    "val plt = Overlay(histplot, cdfplot, splineplot).overlayLegend(x=0.8).render()\n",
    "displayPlot(plt)"
   ]
  },
  {
   "cell_type": "code",
   "execution_count": null,
   "metadata": {},
   "outputs": [],
   "source": []
  }
 ],
 "metadata": {
  "kernelspec": {
   "display_name": "Scala",
   "language": "scala",
   "name": "scala"
  },
  "language_info": {
   "codemirror_mode": "text/x-scala",
   "file_extension": ".scala",
   "mimetype": "text/x-scala",
   "name": "scala211",
   "nbconvert_exporter": "script",
   "pygments_lexer": "scala",
   "version": "2.11.11"
  }
 },
 "nbformat": 4,
 "nbformat_minor": 2
}
